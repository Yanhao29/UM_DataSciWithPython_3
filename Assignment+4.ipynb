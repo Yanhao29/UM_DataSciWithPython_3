{
 "cells": [
  {
   "cell_type": "markdown",
   "metadata": {},
   "source": [
    "---\n",
    "\n",
    "_You are currently looking at **version 1.0** of this notebook. To download notebooks and datafiles, as well as get help on Jupyter notebooks in the Coursera platform, visit the [Jupyter Notebook FAQ](https://www.coursera.org/learn/python-machine-learning/resources/bANLa) course resource._\n",
    "\n",
    "---"
   ]
  },
  {
   "cell_type": "markdown",
   "metadata": {},
   "source": [
    "## Assignment 4 - Understanding and Predicting Property Maintenance Fines\n",
    "\n",
    "This assignment is based on a data challenge from the Michigan Data Science Team ([MDST](http://midas.umich.edu/mdst/)). \n",
    "\n",
    "The Michigan Data Science Team ([MDST](http://midas.umich.edu/mdst/)) and the Michigan Student Symposium for Interdisciplinary Statistical Sciences ([MSSISS](https://sites.lsa.umich.edu/mssiss/)) have partnered with the City of Detroit to help solve one of the most pressing problems facing Detroit - blight. [Blight violations](http://www.detroitmi.gov/How-Do-I/Report/Blight-Complaint-FAQs) are issued by the city to individuals who allow their properties to remain in a deteriorated condition. Every year, the city of Detroit issues millions of dollars in fines to residents and every year, many of these fines remain unpaid. Enforcing unpaid blight fines is a costly and tedious process, so the city wants to know: how can we increase blight ticket compliance?\n",
    "\n",
    "The first step in answering this question is understanding when and why a resident might fail to comply with a blight ticket. This is where predictive modeling comes in. For this assignment, your task is to predict whether a given blight ticket will be paid on time.\n",
    "\n",
    "All data for this assignment has been provided to us through the [Detroit Open Data Portal](https://data.detroitmi.gov/). **Only the data already included in your Coursera directory can be used for training the model for this assignment.** Nonetheless, we encourage you to look into data from other Detroit datasets to help inform feature creation and model selection. We recommend taking a look at the following related datasets:\n",
    "\n",
    "* [Building Permits](https://data.detroitmi.gov/Property-Parcels/Building-Permits/xw2a-a7tf)\n",
    "* [Trades Permits](https://data.detroitmi.gov/Property-Parcels/Trades-Permits/635b-dsgv)\n",
    "* [Improve Detroit: Submitted Issues](https://data.detroitmi.gov/Government/Improve-Detroit-Submitted-Issues/fwz3-w3yn)\n",
    "* [DPD: Citizen Complaints](https://data.detroitmi.gov/Public-Safety/DPD-Citizen-Complaints-2016/kahe-efs3)\n",
    "* [Parcel Map](https://data.detroitmi.gov/Property-Parcels/Parcel-Map/fxkw-udwf)\n",
    "\n",
    "___\n",
    "\n",
    "We provide you with two data files for use in training and validating your models: train.csv and test.csv. Each row in these two files corresponds to a single blight ticket, and includes information about when, why, and to whom each ticket was issued. The target variable is compliance, which is True if the ticket was paid early, on time, or within one month of the hearing data, False if the ticket was paid after the hearing date or not at all, and Null if the violator was found not responsible. Compliance, as well as a handful of other variables that will not be available at test-time, are only included in train.csv.\n",
    "\n",
    "Note: All tickets where the violators were found not responsible are not considered during evaluation. They are included in the training set as an additional source of data for visualization, and to enable unsupervised and semi-supervised approaches. However, they are not included in the test set.\n",
    "\n",
    "<br>\n",
    "\n",
    "**File descriptions** (Use only this data for training your model!)\n",
    "\n",
    "    train.csv - the training set (all tickets issued 2004-2011)\n",
    "    test.csv - the test set (all tickets issued 2012-2016)\n",
    "    addresses.csv & latlons.csv - mapping from ticket id to addresses, and from addresses to lat/lon coordinates. \n",
    "     Note: misspelled addresses may be incorrectly geolocated.\n",
    "\n",
    "<br>\n",
    "\n",
    "**Data fields**\n",
    "\n",
    "train.csv & test.csv\n",
    "\n",
    "    ticket_id - unique identifier for tickets\n",
    "    agency_name - Agency that issued the ticket\n",
    "    inspector_name - Name of inspector that issued the ticket\n",
    "    violator_name - Name of the person/organization that the ticket was issued to\n",
    "    violation_street_number, violation_street_name, violation_zip_code - Address where the violation occurred\n",
    "    mailing_address_str_number, mailing_address_str_name, city, state, zip_code, non_us_str_code, country - Mailing address of the violator\n",
    "    ticket_issued_date - Date and time the ticket was issued\n",
    "    hearing_date - Date and time the violator's hearing was scheduled\n",
    "    violation_code, violation_description - Type of violation\n",
    "    disposition - Judgment and judgement type\n",
    "    fine_amount - Violation fine amount, excluding fees\n",
    "    admin_fee - $20 fee assigned to responsible judgments\n",
    "state_fee - $10 fee assigned to responsible judgments\n",
    "    late_fee - 10% fee assigned to responsible judgments\n",
    "    discount_amount - discount applied, if any\n",
    "    clean_up_cost - DPW clean-up or graffiti removal cost\n",
    "    judgment_amount - Sum of all fines and fees\n",
    "    grafitti_status - Flag for graffiti violations\n",
    "    \n",
    "train.csv only\n",
    "\n",
    "    payment_amount - Amount paid, if any\n",
    "    payment_date - Date payment was made, if it was received\n",
    "    payment_status - Current payment status as of Feb 1 2017\n",
    "    balance_due - Fines and fees still owed\n",
    "    collection_status - Flag for payments in collections\n",
    "    compliance [target variable for prediction] \n",
    "     Null = Not responsible\n",
    "     0 = Responsible, non-compliant\n",
    "     1 = Responsible, compliant\n",
    "    compliance_detail - More information on why each ticket was marked compliant or non-compliant\n",
    "\n",
    "\n",
    "___\n",
    "\n",
    "## Evaluation\n",
    "\n",
    "Your predictions will be given as the probability that the corresponding blight ticket will be paid on time.\n",
    "\n",
    "The evaluation metric for this assignment is the Area Under the ROC Curve (AUC). \n",
    "\n",
    "Your grade will be based on the AUC score computed for your classifier. A model which with an AUROC of 0.7 passes this assignment, over 0.75 will recieve full points.\n",
    "___\n",
    "\n",
    "For this assignment, create a function that trains a model to predict blight ticket compliance in Detroit using `train.csv`. Using this model, return a series of length 61001 with the data being the probability that each corresponding ticket from `test.csv` will be paid, and the index being the ticket_id.\n",
    "\n",
    "Example:\n",
    "\n",
    "    ticket_id\n",
    "       284932    0.531842\n",
    "       285362    0.401958\n",
    "       285361    0.105928\n",
    "       285338    0.018572\n",
    "                 ...\n",
    "       376499    0.208567\n",
    "       376500    0.818759\n",
    "       369851    0.018528\n",
    "       Name: compliance, dtype: float32"
   ]
  },
  {
   "cell_type": "code",
   "execution_count": 169,
   "metadata": {
    "collapsed": false
   },
   "outputs": [],
   "source": [
    "import pandas as pd\n",
    "import numpy as np\n",
    "from sklearn.model_selection import train_test_split\n",
    "from sklearn.ensemble import RandomForestClassifier\n",
    "from sklearn.metrics import roc_curve, auc, roc_auc_score\n",
    "# from sklearn.model_selection import \n",
    "\n",
    "def blight_model():\n",
    "    import pandas as pd\n",
    "    import numpy as np\n",
    "    from sklearn.model_selection import train_test_split\n",
    "    from sklearn.ensemble import RandomForestClassifier\n",
    "    from sklearn.metrics import roc_curve, auc, roc_auc_score\n",
    "    # Your code here\n",
    "    test = pd.read_csv('test.csv')\n",
    "    train = pd.read_csv('train.csv',encoding = 'ISO-8859-1' )\n",
    "#     address = pd.read_csv('addresses.csv')\n",
    "#     latlons = pd.read_csv('latlons.csv')\n",
    "    train = train.dropna(subset=['compliance'])\n",
    "    \n",
    "    ucats_an = set(train['agency_name'])|{'<unknown>'}\n",
    "    ucats_co = set(train['country'])|{'<unknown>'}\n",
    "    ucats_st = set(train['state'])|{'<unknown>'}\n",
    "    ucats_ct = set(train['city'])|{'<unknown>'}\n",
    "    ucats_dp = set(train['disposition'])|{'<unknown>'}\n",
    "    ucats_dc = set(train['violation_description'])|{'<unknown>'}\n",
    "    ucats_vc = set(train['violation_code'])|{'<unknown>'}\n",
    "\n",
    "    train['an']= pd.Categorical(train['agency_name'],categories=ucats_an,ordered=False).fillna('<unknown>').codes\n",
    "    test['an']= pd.Categorical(test['agency_name'],categories=ucats_an,ordered=False).fillna('<unknown>').codes\n",
    "    train['co']= pd.Categorical(train['country'],categories=ucats_co,ordered=False).fillna('<unknown>').codes\n",
    "    test['co']= pd.Categorical(test['country'],categories=ucats_co,ordered=False).fillna('<unknown>').codes\n",
    "    train['st']= pd.Categorical(train['state'],categories=ucats_st,ordered=False).fillna('<unknown>').codes\n",
    "    test['st']= pd.Categorical(test['state'],categories=ucats_st,ordered=False).fillna('<unknown>').codes\n",
    "    train['ct']= pd.Categorical(train['city'],categories=ucats_ct,ordered=False).fillna('<unknown>').codes\n",
    "    test['ct']= pd.Categorical(test['city'],categories=ucats_ct,ordered=False).fillna('<unknown>').codes\n",
    "    train['dp']= pd.Categorical(train['disposition'],categories=ucats_dp,ordered=False).fillna('<unknown>').codes\n",
    "    test['dp']= pd.Categorical(test['disposition'],categories=ucats_dp,ordered=False).fillna('<unknown>').codes\n",
    "    train['dc']= pd.Categorical(train['violation_description'],categories=ucats_dc,ordered=False).fillna('<unknown>').codes\n",
    "    test['dc']= pd.Categorical(test['violation_description'],categories=ucats_dc,ordered=False).fillna('<unknown>').codes\n",
    "    train['vc']= pd.Categorical(train['violation_code'],categories=ucats_vc,ordered=False).fillna('<unknown>').codes\n",
    "    test['vc']= pd.Categorical(test['violation_code'],categories=ucats_vc,ordered=False).fillna('<unknown>').codes\n",
    "\n",
    "#     temp = (pd.to_datetime(train.hearing_date)-pd.to_datetime(train.ticket_issued_date)).astype('timedelta64[M]')\n",
    "#     ucats_td = set(filter(lambda x: x==x, temp))|{'<unknown>'}\n",
    "#     train['td'] = pd.Categorical(temp, categories=ucats_td, ordered=True).fillna('<unknown>').codes\n",
    "\n",
    "#     temp = (pd.to_datetime(test.hearing_date)-pd.to_datetime(test.ticket_issued_date)).astype('timedelta64[M]')\n",
    "#     test['td'] = pd.Categorical(temp, categories=ucats_td, ordered=True).fillna('<unknown>').codes\n",
    "    \n",
    "    features = ['an','co','st','dp','vc','fine_amount','late_fee','discount_amount','judgment_amount']\n",
    "\n",
    "    X = train[features]\n",
    "    y = train['compliance']\n",
    "    X_test = test[features]\n",
    "    clf = RandomForestClassifier(n_estimators=100, max_depth=10).fit(X, y)\n",
    "    y_test_scores = clf.predict_proba(X_test)[:,1]\n",
    "    compliance = pd.Series(y_test_scores, index=test['ticket_id'])\n",
    "    compliance.astype(np.float32)\n",
    "    return compliance# Your answer here\n",
    "# blight_model()\n",
    "# ans[0:5]"
   ]
  },
  {
   "cell_type": "code",
   "execution_count": 170,
   "metadata": {
    "collapsed": false
   },
   "outputs": [],
   "source": [
    "# test = pd.read_csv('test.csv')\n",
    "# train = pd.read_csv('train.csv',encoding = 'ISO-8859-1' )\n",
    "# print('train shape is: {}'.format(train.shape))\n",
    "# print('test shape is: {}'.format(test.shape))\n",
    "# train = train.dropna(subset=['compliance'])\n",
    "# print('train shape is: {}'.format(train.shape))"
   ]
  },
  {
   "cell_type": "code",
   "execution_count": 171,
   "metadata": {
    "collapsed": false
   },
   "outputs": [],
   "source": [
    "# print(train.columns)\n",
    "# print(test.columns)"
   ]
  },
  {
   "cell_type": "code",
   "execution_count": 172,
   "metadata": {
    "collapsed": false
   },
   "outputs": [],
   "source": [
    "# print('agency name set: {}'.format(len(set(train.agency_name))))\n",
    "# print(set(train.agency_name))\n",
    "# print('****************************************************************************************************')\n",
    "# print('state: {}'.format(len(set(train.state))))\n",
    "# print(set(train.state))\n",
    "# print('****************************************************************************************************')\n",
    "# print('country: {}'.format(len(set(train.country))))\n",
    "# print(set(train.country))\n",
    "# print('****************************************************************************************************')\n",
    "# print('disposition: {}'.format(len(set(train.disposition))))\n",
    "# print(set(train.disposition))\n",
    "# print('****************************************************************************************************')\n",
    "# print('violation_code: {}'.format(len(set(train.violation_code))))\n",
    "# print('city: {}'.format(len(set(train.city))))\n",
    "# print('fine_amount {}'.format(len(set(train.fine_amount))))\n",
    "# print('admin_fee {}'.format(len(set(train.admin_fee))))\n",
    "# print('state_fee {}'.format(len(set(train.state_fee))))\n",
    "# print('late_fee {}'.format(len(set(train.late_fee))))\n",
    "# print('discount_amount {}'.format(len(set(train.discount_amount))))\n",
    "# print('judgment_amount {}'.format(len(set(train.judgment_amount))))\n",
    "# print('clean_up_cost {}'.format(len(set(train.clean_up_cost))))\n",
    "# print('violation_description {}'.format(len(set(train.violation_description))))\n",
    "# print('****************************************************************************************************')"
   ]
  },
  {
   "cell_type": "code",
   "execution_count": 173,
   "metadata": {
    "collapsed": false
   },
   "outputs": [],
   "source": [
    "# ucats_an = set(train['agency_name'])|{'<unknown>'}\n",
    "# ucats_co = set(train['country'])|{'<unknown>'}\n",
    "# ucats_st = set(train['state'])|{'<unknown>'}\n",
    "# ucats_ct = set(train['city'])|{'<unknown>'}\n",
    "# ucats_dp = set(train['disposition'])|{'<unknown>'}\n",
    "# ucats_dc = set(train['violation_description'])|{'<unknown>'}\n",
    "# ucats_vc = set(train['violation_code'])|{'<unknown>'}\n",
    "\n",
    "# train['an']= pd.Categorical(train['agency_name'],categories=ucats_an,ordered=False).fillna('<unknown>').codes\n",
    "# test['an']= pd.Categorical(test['agency_name'],categories=ucats_an,ordered=False).fillna('<unknown>').codes\n",
    "# train['co']= pd.Categorical(train['country'],categories=ucats_co,ordered=False).fillna('<unknown>').codes\n",
    "# test['co']= pd.Categorical(test['country'],categories=ucats_co,ordered=False).fillna('<unknown>').codes\n",
    "# train['st']= pd.Categorical(train['state'],categories=ucats_st,ordered=False).fillna('<unknown>').codes\n",
    "# test['st']= pd.Categorical(test['state'],categories=ucats_st,ordered=False).fillna('<unknown>').codes\n",
    "# train['ct']= pd.Categorical(train['city'],categories=ucats_ct,ordered=False).fillna('<unknown>').codes\n",
    "# test['ct']= pd.Categorical(test['city'],categories=ucats_ct,ordered=False).fillna('<unknown>').codes\n",
    "# train['dp']= pd.Categorical(train['disposition'],categories=ucats_dp,ordered=False).fillna('<unknown>').codes\n",
    "# test['dp']= pd.Categorical(test['disposition'],categories=ucats_dp,ordered=False).fillna('<unknown>').codes\n",
    "# train['dc']= pd.Categorical(train['violation_description'],categories=ucats_dc,ordered=False).fillna('<unknown>').codes\n",
    "# test['dc']= pd.Categorical(test['violation_description'],categories=ucats_dc,ordered=False).fillna('<unknown>').codes\n",
    "# train['vc']= pd.Categorical(train['violation_code'],categories=ucats_vc,ordered=False).fillna('<unknown>').codes\n",
    "# test['vc']= pd.Categorical(test['violation_code'],categories=ucats_vc,ordered=False).fillna('<unknown>').codes\n",
    "\n",
    "# temp = (pd.to_datetime(train.hearing_date)-pd.to_datetime(train.ticket_issued_date)).astype('timedelta64[M]')\n",
    "# ucats_td = set(filter(lambda x: x==x, temp))|{'<unknown>'}\n",
    "# train['td'] = pd.Categorical(temp, categories=ucats_td, ordered=True).fillna('<unknown>').codes\n",
    "\n",
    "# temp = (pd.to_datetime(test.hearing_date)-pd.to_datetime(test.ticket_issued_date)).astype('timedelta64[M]')\n",
    "# test['td'] = pd.Categorical(temp, categories=ucats_td, ordered=True).fillna('<unknown>').codes"
   ]
  },
  {
   "cell_type": "code",
   "execution_count": 174,
   "metadata": {
    "collapsed": false
   },
   "outputs": [],
   "source": [
    "# features = ['an','co','st','dp','vc','fine_amount','late_fee','discount_amount','judgment_amount']\n",
    "# X = train[features]\n",
    "# y = train['compliance']\n",
    "# X_train, X_test, y_train, y_test = train_test_split(X, y, random_state = 0)\n",
    "\n",
    "# X_train.shape"
   ]
  },
  {
   "cell_type": "code",
   "execution_count": 175,
   "metadata": {
    "collapsed": false
   },
   "outputs": [],
   "source": [
    "# X_train.head()"
   ]
  },
  {
   "cell_type": "code",
   "execution_count": 176,
   "metadata": {
    "collapsed": false
   },
   "outputs": [],
   "source": [
    "# clf = RandomForestClassifier(n_estimators=100, max_depth=10).fit(X_train, y_train)\n",
    "# print(clf.score(X_train, y_train))\n",
    "# print(clf.score(X_test, y_test))\n"
   ]
  },
  {
   "cell_type": "code",
   "execution_count": 177,
   "metadata": {
    "collapsed": false
   },
   "outputs": [],
   "source": [
    "# y_train_scores = clf.predict_proba(X_train)[:,1]\n",
    "# y_test_scores = clf.predict_proba(X_test)[:,1]\n",
    "# fpr_train, tpr_train, _ = roc_curve(y_train, y_train_scores)\n",
    "# fpr_test, tpr_test, _ = roc_curve(y_test, y_test_scores)\n",
    "# auc_train = auc(fpr_train, tpr_train)\n",
    "# auc_test = auc(fpr_test, tpr_test)\n",
    "# print(auc_train)\n",
    "# print(auc_test)"
   ]
  },
  {
   "cell_type": "code",
   "execution_count": 178,
   "metadata": {
    "collapsed": false
   },
   "outputs": [],
   "source": [
    "# import matplotlib.pyplot as plt\n",
    "# plt.figure()\n",
    "# plt.xlim([-0.01, 1.00])\n",
    "# plt.ylim([-0.01, 1.01])\n",
    "# plt.plot(fpr_train, tpr_train, lw=3, label='LogRegr ROC curve (area = {:0.2f})'.format(auc_train))\n",
    "# plt.xlabel('False Positive Rate', fontsize=16)\n",
    "# plt.ylabel('True Positive Rate', fontsize=16)\n",
    "# plt.legend(loc='lower right', fontsize=13)\n",
    "# plt.show()"
   ]
  },
  {
   "cell_type": "code",
   "execution_count": 179,
   "metadata": {
    "collapsed": false
   },
   "outputs": [],
   "source": [
    "# import matplotlib.pyplot as plt\n",
    "# plt.figure()\n",
    "# plt.xlim([-0.01, 1.00])\n",
    "# plt.ylim([-0.01, 1.01])\n",
    "# plt.plot(fpr_test, tpr_test, lw=3, label='LogRegr ROC curve (area = {:0.2f})'.format(auc_test))\n",
    "# plt.xlabel('False Positive Rate', fontsize=16)\n",
    "# plt.ylabel('True Positive Rate', fontsize=16)\n",
    "# plt.legend(loc='lower right', fontsize=13)\n",
    "# plt.show()"
   ]
  },
  {
   "cell_type": "code",
   "execution_count": 181,
   "metadata": {
    "collapsed": false
   },
   "outputs": [
    {
     "name": "stderr",
     "output_type": "stream",
     "text": [
      "/opt/conda/lib/python3.5/site-packages/IPython/core/interactiveshell.py:2821: DtypeWarning: Columns (11,12,31) have mixed types. Specify dtype option on import or set low_memory=False.\n",
      "  if self.run_code(code, result):\n",
      "/opt/conda/lib/python3.5/site-packages/ipykernel/__main__.py:33: FutureWarning: \n",
      "Setting NaNs in `categories` is deprecated and will be removed in a future version of pandas.\n",
      "/opt/conda/lib/python3.5/site-packages/ipykernel/__main__.py:34: FutureWarning: \n",
      "Setting NaNs in `categories` is deprecated and will be removed in a future version of pandas.\n"
     ]
    },
    {
     "name": "stdout",
     "output_type": "stream",
     "text": [
      "Data type Test: Passed\n",
      "Data shape Test: Passed\n",
      "Data Values Test: Passed\n",
      "Data Values type Test: Passed\n",
      "Index type Test: Passed\n",
      "Index values type Test: Passed\n",
      "Output index shape test:Passed\n",
      "Output index test: Passed\n",
      "\n"
     ]
    }
   ],
   "source": [
    "# bm = blight_model()\n",
    "# res = 'Data type Test: '\n",
    "# res += ['Failed: type(bm) should Series\\n','Passed\\n'][type(bm)==pd.Series]\n",
    "# res += 'Data shape Test: '\n",
    "# res += ['Failed: len(bm) should be 61001\\n','Passed\\n'][len(bm)==61001]\n",
    "# res += 'Data Values Test: '\n",
    "# res += ['Failed: all values should be in [0.,1.]\\n','Passed\\n'][all((bm<=1.) & (bm>=0.))]\n",
    "# res += 'Data Values type Test: '\n",
    "# res += ['Failed: bm.dtype should be float\\n','Passed\\n'][str(bm.dtype).count('float')>0]\n",
    "# res += 'Index type Test: '\n",
    "# res += ['Failed: type(bm.index) should be Int64Index\\n','Passed\\n'][type(bm.index)==pd.Int64Index]\n",
    "# res += 'Index values type Test: '\n",
    "# res += ['Failed: type(bm.index[0]) should be int64\\n','Passed\\n'][str(type(bm.index[0])).count(\"int64\")>0]\n",
    "\n",
    "# res += 'Output index shape test:'\n",
    "# res += ['Failed, bm.index.shape should be (61001,)\\n','Passed\\n'][bm.index.shape==(61001,)]\n",
    "\n",
    "# res += 'Output index test: '\n",
    "# if bm.index.shape==(61001,):\n",
    "#     res +=['Failed\\n','Passed\\n'][all(pd.read_csv('test.csv',usecols=[0],index_col=0).sort_index().index.values==bm.sort_index().index.values)]\n",
    "# else:\n",
    "#     res+='Failed'\n",
    "# print(res)"
   ]
  },
  {
   "cell_type": "code",
   "execution_count": 156,
   "metadata": {
    "collapsed": false
   },
   "outputs": [],
   "source": [
    "# bm.head()"
   ]
  },
  {
   "cell_type": "code",
   "execution_count": null,
   "metadata": {
    "collapsed": true
   },
   "outputs": [],
   "source": []
  },
  {
   "cell_type": "code",
   "execution_count": null,
   "metadata": {
    "collapsed": true
   },
   "outputs": [],
   "source": []
  },
  {
   "cell_type": "code",
   "execution_count": null,
   "metadata": {
    "collapsed": true
   },
   "outputs": [],
   "source": []
  }
 ],
 "metadata": {
  "coursera": {
   "course_slug": "python-machine-learning",
   "graded_item_id": "nNS8l",
   "launcher_item_id": "yWWk7",
   "part_id": "w8BSS"
  },
  "kernelspec": {
   "display_name": "Python 3",
   "language": "python",
   "name": "python3"
  },
  "language_info": {
   "codemirror_mode": {
    "name": "ipython",
    "version": 3
   },
   "file_extension": ".py",
   "mimetype": "text/x-python",
   "name": "python",
   "nbconvert_exporter": "python",
   "pygments_lexer": "ipython3",
   "version": "3.5.2"
  }
 },
 "nbformat": 4,
 "nbformat_minor": 2
}
